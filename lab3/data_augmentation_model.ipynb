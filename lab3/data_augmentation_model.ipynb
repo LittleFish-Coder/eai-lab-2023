{
  "cells": [
    {
      "cell_type": "code",
      "execution_count": 1,
      "metadata": {
        "id": "ZWptM2AFfExI"
      },
      "outputs": [],
      "source": [
        "# from google.colab import drive\n",
        "# drive.mount('/content/drive')"
      ]
    },
    {
      "cell_type": "code",
      "execution_count": 2,
      "metadata": {
        "id": "i4xXb5NnfGdd"
      },
      "outputs": [],
      "source": [
        "#change to your datapath\n",
        "# %cd /content/drive/MyDrive/EAI_2023_fall/StudentID_lab3"
      ]
    },
    {
      "cell_type": "code",
      "execution_count": 3,
      "metadata": {
        "id": "uTY8C-LBhDTX"
      },
      "outputs": [],
      "source": [
        "import torch\n",
        "import torch.nn as nn\n",
        "import torch.nn.functional as F\n",
        "import torch.optim as optim\n",
        "import torchvision\n",
        "import torchvision.transforms as transforms\n",
        "import argparse\n",
        "import os\n",
        "import numpy as np\n",
        "from torch.utils.data import random_split\n",
        "from torch.utils.tensorboard import SummaryWriter\n",
        "from resnet18 import *\n",
        "from tqdm import tqdm   # for progress bar"
      ]
    },
    {
      "cell_type": "code",
      "execution_count": 4,
      "metadata": {
        "id": "io7k6zHGb1OJ"
      },
      "outputs": [],
      "source": [
        "# Create SummaryWriter\n",
        "writer = SummaryWriter(\"./tensorboard\")"
      ]
    },
    {
      "cell_type": "code",
      "execution_count": 5,
      "metadata": {
        "id": "oqc_D_uEhc1O"
      },
      "outputs": [
        {
          "name": "stdout",
          "output_type": "stream",
          "text": [
            "True\n"
          ]
        }
      ],
      "source": [
        "#檢查是否可用gpu\n",
        "print(torch.cuda.is_available())"
      ]
    },
    {
      "cell_type": "code",
      "execution_count": 6,
      "metadata": {},
      "outputs": [
        {
          "name": "stdout",
          "output_type": "stream",
          "text": [
            "Using cuda device\n"
          ]
        }
      ],
      "source": [
        "# Get cpu, gpu or mps device for training.\n",
        "# for mac m1, use mps\n",
        "# for intel or amd cpu, use cpu\n",
        "# for gpu, use cuda\n",
        "device = (\n",
        "    \"cuda\"\n",
        "    if torch.cuda.is_available()\n",
        "    else \"mps\"\n",
        "    if torch.backends.mps.is_available()\n",
        "    else \"cpu\"\n",
        ")\n",
        "print(f\"Using {device} device\")"
      ]
    },
    {
      "cell_type": "code",
      "execution_count": 7,
      "metadata": {
        "id": "CrsS13SChs9b"
      },
      "outputs": [],
      "source": [
        "# setting parameter\n",
        "EPOCH = 40\n",
        "pre_epoch = 0\n",
        "BATCH_SIZE = 128\n",
        "lr = 0.05\n",
        "# device = torch.device(\"cuda\")"
      ]
    },
    {
      "cell_type": "code",
      "execution_count": 8,
      "metadata": {
        "id": "3LzusjVfhxJ3"
      },
      "outputs": [
        {
          "name": "stdout",
          "output_type": "stream",
          "text": [
            "Files already downloaded and verified\n",
            "Files already downloaded and verified\n",
            "[0.49269682 0.4834038  0.44856453] [0.24805267 0.24424155 0.26290065]\n",
            "[0.49269682 0.4834038  0.44856453] [0.24805267 0.24424155 0.26290065]\n"
          ]
        }
      ],
      "source": [
        "# 計算normalization需要的mean & std\n",
        "def get_mean_std(dataset, ratio=0.3):\n",
        "    # Get mean and std by sample ratio\n",
        "    dataloader = torch.utils.data.DataLoader(dataset, batch_size=int(len(dataset)*ratio), shuffle=True, num_workers=2)\n",
        "\n",
        "    data = next(iter(dataloader))[0]     # get the first iteration data\n",
        "    mean = np.mean(data.numpy(), axis=(0,2,3))\n",
        "    std = np.std(data.numpy(), axis=(0,2,3))\n",
        "    return mean, std\n",
        "\n",
        "train_dataset = torchvision.datasets.CIFAR10(root='./data', train=True, download=True, transform=transforms.ToTensor())\n",
        "test_dataset = torchvision.datasets.CIFAR10(root='./data', train=False, download=True, transform=transforms.ToTensor())\n",
        "\n",
        "train_mean, train_std = get_mean_std(train_dataset)\n",
        "test_mean, test_std = train_mean, train_std # in usual case, we don't have test dataset, we use train mean & std as test mean & std\n",
        "print(train_mean, train_std)\n",
        "print(test_mean, test_std)"
      ]
    },
    {
      "cell_type": "code",
      "execution_count": 9,
      "metadata": {
        "id": "5NGnL4rP6ofO"
      },
      "outputs": [],
      "source": [
        "# data augmentation & normalization\n",
        "transform_train = transforms.Compose([\n",
        "    # data augmentation\n",
        "    transforms.RandomHorizontalFlip(),  # 50% chance to flip the image horizontally\n",
        "    transforms.RandomRotation(10),  # rotate the image by 10 degrees\n",
        "    transforms.ColorJitter(brightness=0.2, contrast=0.2, saturation=0.2, hue=0.1),  # change the brightness, contrast, saturation and hue randomly\n",
        "    transforms.ToTensor(),\n",
        "    transforms.RandomErasing(),  # randomly selects a rectangle region in an image and erases its pixels\n",
        "    # data normalization    # standardization: (image - train_mean) / train_std\n",
        "    transforms.Normalize(train_mean, train_std)\n",
        "])\n",
        "\n",
        "# for test, we only need to normalize data\n",
        "transform_test = transforms.Compose([\n",
        "    transforms.ToTensor(),\n",
        "    # data normalization    # standardization: (image - train_mean) / train_std\n",
        "    transforms.Normalize(train_mean, train_std)\n",
        "])"
      ]
    },
    {
      "cell_type": "code",
      "execution_count": 10,
      "metadata": {
        "id": "oaJyYUXj6rNW"
      },
      "outputs": [
        {
          "name": "stdout",
          "output_type": "stream",
          "text": [
            "Files already downloaded and verified\n",
            "Files already downloaded and verified\n",
            "trainset length:  50000\n",
            "classes:  ['airplane', 'automobile', 'bird', 'cat', 'deer', 'dog', 'frog', 'horse', 'ship', 'truck']\n",
            "image shape:  torch.Size([3, 32, 32])\n",
            "label:  6\n",
            "train length:  45000\n",
            "val length:  5000\n",
            "test length:  10000\n"
          ]
        }
      ],
      "source": [
        "# dataset\n",
        "trainset = torchvision.datasets.CIFAR10(root='./data', train=True, download=True, transform=transform_train)\n",
        "test_ds = torchvision.datasets.CIFAR10(root='./data', train=False, download=True, transform=transform_test)\n",
        "\n",
        "# 檢查training dataset長怎麼樣\n",
        "print(\"trainset length: \", len(trainset))\n",
        "print(\"classes: \", trainset.classes)\n",
        "image, label = trainset[0]\n",
        "print(\"image shape: \", image.shape)\n",
        "print(\"label: \", label)\n",
        "\n",
        "# Cifar-10的標籤: ('plane', 'car', 'bird', 'cat', 'deer', 'dog', 'frog', 'horse', 'ship', 'truck')\n",
        "\n",
        "# split validation dataset\n",
        "torch.manual_seed(43)     # 確保每次獲得相同的驗證集\n",
        "val_size = 5000       # 取5000張驗證集(0.1 of trainset)\n",
        "train_size = len(trainset) - val_size\n",
        "train_ds, val_ds = random_split(trainset, [train_size, val_size])\n",
        "print(\"train length: \", len(train_ds))\n",
        "print(\"val length: \", len(val_ds))\n",
        "print(\"test length: \", len(test_ds))\n",
        "\n",
        "trainloader = torch.utils.data.DataLoader(train_ds, batch_size=BATCH_SIZE, shuffle=True, num_workers=2)   #生成batch\n",
        "valloader = torch.utils.data.DataLoader(val_ds, batch_size=BATCH_SIZE, shuffle=False, num_workers=2)\n",
        "testloader = torch.utils.data.DataLoader(test_ds, batch_size=BATCH_SIZE, shuffle=False, num_workers=2)"
      ]
    },
    {
      "cell_type": "code",
      "execution_count": 11,
      "metadata": {
        "id": "EgJejgUOVviV"
      },
      "outputs": [],
      "source": [
        "# learning rate shedule\n",
        "def adjust_learning_rate(optim, epoch):\n",
        "    # define your lr scheduler\n",
        "    if epoch < 10:    # 0~9\n",
        "        lr = 0.05\n",
        "    elif epoch < 20:    # 10~19\n",
        "        lr = 0.01\n",
        "    elif epoch < 30:    # 20~29\n",
        "        lr = 0.005\n",
        "    else:               # 30~40\n",
        "        lr = 0.001\n",
        "\n",
        "    for param_group in optim.param_groups:\n",
        "        param_group['lr'] = lr"
      ]
    },
    {
      "cell_type": "code",
      "execution_count": 12,
      "metadata": {
        "id": "WfBB9RKK6t8e"
      },
      "outputs": [
        {
          "name": "stderr",
          "output_type": "stream",
          "text": [
            "  0%|          | 0/40 [00:00<?, ?it/s]"
          ]
        },
        {
          "name": "stdout",
          "output_type": "stream",
          "text": [
            "\n",
            "Epoch: 1\n",
            "learning rate:  0.05\n",
            "Train loss: 1.832 | Train acc: 0.340\n"
          ]
        },
        {
          "name": "stderr",
          "output_type": "stream",
          "text": [
            "  2%|▎         | 1/40 [00:12<08:13, 12.66s/it]"
          ]
        },
        {
          "name": "stdout",
          "output_type": "stream",
          "text": [
            "Val loss: 1.649 | Val acc: 0.401\n",
            "\n",
            "Epoch: 2\n",
            "learning rate:  0.05\n",
            "Train loss: 1.328 | Train acc: 0.519\n"
          ]
        },
        {
          "name": "stderr",
          "output_type": "stream",
          "text": [
            "  5%|▌         | 2/40 [00:24<07:31, 11.89s/it]"
          ]
        },
        {
          "name": "stdout",
          "output_type": "stream",
          "text": [
            "Val loss: 1.399 | Val acc: 0.491\n",
            "\n",
            "Epoch: 3\n",
            "learning rate:  0.05\n",
            "Train loss: 1.105 | Train acc: 0.607\n"
          ]
        },
        {
          "name": "stderr",
          "output_type": "stream",
          "text": [
            "  8%|▊         | 3/40 [00:35<07:11, 11.67s/it]"
          ]
        },
        {
          "name": "stdout",
          "output_type": "stream",
          "text": [
            "Val loss: 1.221 | Val acc: 0.573\n",
            "\n",
            "Epoch: 4\n",
            "learning rate:  0.05\n",
            "Train loss: 0.941 | Train acc: 0.668\n"
          ]
        },
        {
          "name": "stderr",
          "output_type": "stream",
          "text": [
            " 10%|█         | 4/40 [00:46<06:55, 11.55s/it]"
          ]
        },
        {
          "name": "stdout",
          "output_type": "stream",
          "text": [
            "Val loss: 0.962 | Val acc: 0.659\n",
            "\n",
            "Epoch: 5\n",
            "learning rate:  0.05\n",
            "Train loss: 0.827 | Train acc: 0.709\n"
          ]
        },
        {
          "name": "stderr",
          "output_type": "stream",
          "text": [
            " 12%|█▎        | 5/40 [00:58<06:43, 11.52s/it]"
          ]
        },
        {
          "name": "stdout",
          "output_type": "stream",
          "text": [
            "Val loss: 0.878 | Val acc: 0.688\n",
            "\n",
            "Epoch: 6\n",
            "learning rate:  0.05\n",
            "Train loss: 0.746 | Train acc: 0.739\n"
          ]
        },
        {
          "name": "stderr",
          "output_type": "stream",
          "text": [
            " 15%|█▌        | 6/40 [01:09<06:31, 11.51s/it]"
          ]
        },
        {
          "name": "stdout",
          "output_type": "stream",
          "text": [
            "Val loss: 0.913 | Val acc: 0.688\n",
            "\n",
            "Epoch: 7\n",
            "learning rate:  0.05\n",
            "Train loss: 0.697 | Train acc: 0.755\n"
          ]
        },
        {
          "name": "stderr",
          "output_type": "stream",
          "text": [
            " 18%|█▊        | 7/40 [01:21<06:18, 11.47s/it]"
          ]
        },
        {
          "name": "stdout",
          "output_type": "stream",
          "text": [
            "Val loss: 0.967 | Val acc: 0.676\n",
            "\n",
            "Epoch: 8\n",
            "learning rate:  0.05\n",
            "Train loss: 0.644 | Train acc: 0.775\n"
          ]
        },
        {
          "name": "stderr",
          "output_type": "stream",
          "text": [
            " 20%|██        | 8/40 [01:32<06:08, 11.53s/it]"
          ]
        },
        {
          "name": "stdout",
          "output_type": "stream",
          "text": [
            "Val loss: 0.849 | Val acc: 0.703\n",
            "\n",
            "Epoch: 9\n",
            "learning rate:  0.05\n",
            "Train loss: 0.610 | Train acc: 0.785\n"
          ]
        },
        {
          "name": "stderr",
          "output_type": "stream",
          "text": [
            " 22%|██▎       | 9/40 [01:44<05:55, 11.48s/it]"
          ]
        },
        {
          "name": "stdout",
          "output_type": "stream",
          "text": [
            "Val loss: 0.680 | Val acc: 0.764\n",
            "\n",
            "Epoch: 10\n",
            "learning rate:  0.025\n",
            "Train loss: 0.577 | Train acc: 0.797\n"
          ]
        },
        {
          "name": "stderr",
          "output_type": "stream",
          "text": [
            " 25%|██▌       | 10/40 [01:55<05:46, 11.55s/it]"
          ]
        },
        {
          "name": "stdout",
          "output_type": "stream",
          "text": [
            "Val loss: 0.688 | Val acc: 0.760\n",
            "\n",
            "Epoch: 11\n",
            "learning rate:  0.025\n",
            "Train loss: 0.460 | Train acc: 0.839\n"
          ]
        },
        {
          "name": "stderr",
          "output_type": "stream",
          "text": [
            " 28%|██▊       | 11/40 [02:07<05:34, 11.52s/it]"
          ]
        },
        {
          "name": "stdout",
          "output_type": "stream",
          "text": [
            "Val loss: 0.560 | Val acc: 0.804\n",
            "\n",
            "Epoch: 12\n",
            "learning rate:  0.025\n",
            "Train loss: 0.430 | Train acc: 0.849\n"
          ]
        },
        {
          "name": "stderr",
          "output_type": "stream",
          "text": [
            " 30%|███       | 12/40 [02:18<05:23, 11.55s/it]"
          ]
        },
        {
          "name": "stdout",
          "output_type": "stream",
          "text": [
            "Val loss: 0.595 | Val acc: 0.793\n",
            "\n",
            "Epoch: 13\n",
            "learning rate:  0.025\n",
            "Train loss: 0.413 | Train acc: 0.854\n"
          ]
        },
        {
          "name": "stderr",
          "output_type": "stream",
          "text": [
            " 32%|███▎      | 13/40 [02:30<05:11, 11.55s/it]"
          ]
        },
        {
          "name": "stdout",
          "output_type": "stream",
          "text": [
            "Val loss: 0.590 | Val acc: 0.799\n",
            "\n",
            "Epoch: 14\n",
            "learning rate:  0.025\n",
            "Train loss: 0.403 | Train acc: 0.860\n"
          ]
        },
        {
          "name": "stderr",
          "output_type": "stream",
          "text": [
            " 35%|███▌      | 14/40 [02:42<05:00, 11.56s/it]"
          ]
        },
        {
          "name": "stdout",
          "output_type": "stream",
          "text": [
            "Val loss: 0.558 | Val acc: 0.805\n",
            "\n",
            "Epoch: 15\n",
            "learning rate:  0.025\n",
            "Train loss: 0.383 | Train acc: 0.866\n"
          ]
        },
        {
          "name": "stderr",
          "output_type": "stream",
          "text": [
            " 38%|███▊      | 15/40 [02:53<04:49, 11.57s/it]"
          ]
        },
        {
          "name": "stdout",
          "output_type": "stream",
          "text": [
            "Val loss: 0.547 | Val acc: 0.805\n",
            "\n",
            "Epoch: 16\n",
            "learning rate:  0.025\n",
            "Train loss: 0.375 | Train acc: 0.868\n"
          ]
        },
        {
          "name": "stderr",
          "output_type": "stream",
          "text": [
            " 40%|████      | 16/40 [03:05<04:37, 11.57s/it]"
          ]
        },
        {
          "name": "stdout",
          "output_type": "stream",
          "text": [
            "Val loss: 0.679 | Val acc: 0.770\n",
            "\n",
            "Epoch: 17\n",
            "learning rate:  0.025\n",
            "Train loss: 0.365 | Train acc: 0.872\n"
          ]
        },
        {
          "name": "stderr",
          "output_type": "stream",
          "text": [
            " 42%|████▎     | 17/40 [03:16<04:26, 11.59s/it]"
          ]
        },
        {
          "name": "stdout",
          "output_type": "stream",
          "text": [
            "Val loss: 0.526 | Val acc: 0.819\n",
            "\n",
            "Epoch: 18\n",
            "learning rate:  0.025\n",
            "Train loss: 0.361 | Train acc: 0.874\n"
          ]
        },
        {
          "name": "stderr",
          "output_type": "stream",
          "text": [
            " 45%|████▌     | 18/40 [03:28<04:15, 11.62s/it]"
          ]
        },
        {
          "name": "stdout",
          "output_type": "stream",
          "text": [
            "Val loss: 0.535 | Val acc: 0.817\n",
            "\n",
            "Epoch: 19\n",
            "learning rate:  0.025\n",
            "Train loss: 0.348 | Train acc: 0.877\n"
          ]
        },
        {
          "name": "stderr",
          "output_type": "stream",
          "text": [
            " 48%|████▊     | 19/40 [03:40<04:03, 11.58s/it]"
          ]
        },
        {
          "name": "stdout",
          "output_type": "stream",
          "text": [
            "Val loss: 0.526 | Val acc: 0.817\n",
            "\n",
            "Epoch: 20\n",
            "learning rate:  0.0125\n",
            "Train loss: 0.344 | Train acc: 0.881\n"
          ]
        },
        {
          "name": "stderr",
          "output_type": "stream",
          "text": [
            " 50%|█████     | 20/40 [03:51<03:49, 11.48s/it]"
          ]
        },
        {
          "name": "stdout",
          "output_type": "stream",
          "text": [
            "Val loss: 0.543 | Val acc: 0.817\n",
            "\n",
            "Epoch: 21\n",
            "learning rate:  0.0125\n",
            "Train loss: 0.263 | Train acc: 0.908\n"
          ]
        },
        {
          "name": "stderr",
          "output_type": "stream",
          "text": [
            " 52%|█████▎    | 21/40 [04:02<03:38, 11.49s/it]"
          ]
        },
        {
          "name": "stdout",
          "output_type": "stream",
          "text": [
            "Val loss: 0.428 | Val acc: 0.855\n",
            "\n",
            "Epoch: 22\n",
            "learning rate:  0.0125\n",
            "Train loss: 0.239 | Train acc: 0.916\n"
          ]
        },
        {
          "name": "stderr",
          "output_type": "stream",
          "text": [
            " 55%|█████▌    | 22/40 [04:14<03:25, 11.43s/it]"
          ]
        },
        {
          "name": "stdout",
          "output_type": "stream",
          "text": [
            "Val loss: 0.443 | Val acc: 0.851\n",
            "\n",
            "Epoch: 23\n",
            "learning rate:  0.0125\n",
            "Train loss: 0.224 | Train acc: 0.922\n"
          ]
        },
        {
          "name": "stderr",
          "output_type": "stream",
          "text": [
            " 57%|█████▊    | 23/40 [04:25<03:13, 11.39s/it]"
          ]
        },
        {
          "name": "stdout",
          "output_type": "stream",
          "text": [
            "Val loss: 0.447 | Val acc: 0.849\n",
            "\n",
            "Epoch: 24\n",
            "learning rate:  0.0125\n",
            "Train loss: 0.226 | Train acc: 0.922\n"
          ]
        },
        {
          "name": "stderr",
          "output_type": "stream",
          "text": [
            " 60%|██████    | 24/40 [04:36<03:01, 11.34s/it]"
          ]
        },
        {
          "name": "stdout",
          "output_type": "stream",
          "text": [
            "Val loss: 0.437 | Val acc: 0.851\n",
            "\n",
            "Epoch: 25\n",
            "learning rate:  0.0125\n",
            "Train loss: 0.217 | Train acc: 0.924\n"
          ]
        },
        {
          "name": "stderr",
          "output_type": "stream",
          "text": [
            " 62%|██████▎   | 25/40 [04:47<02:49, 11.29s/it]"
          ]
        },
        {
          "name": "stdout",
          "output_type": "stream",
          "text": [
            "Val loss: 0.453 | Val acc: 0.847\n",
            "\n",
            "Epoch: 26\n",
            "learning rate:  0.0125\n",
            "Train loss: 0.213 | Train acc: 0.926\n"
          ]
        },
        {
          "name": "stderr",
          "output_type": "stream",
          "text": [
            " 65%|██████▌   | 26/40 [04:58<02:37, 11.24s/it]"
          ]
        },
        {
          "name": "stdout",
          "output_type": "stream",
          "text": [
            "Val loss: 0.446 | Val acc: 0.847\n",
            "\n",
            "Epoch: 27\n",
            "learning rate:  0.0125\n",
            "Train loss: 0.207 | Train acc: 0.929\n"
          ]
        },
        {
          "name": "stderr",
          "output_type": "stream",
          "text": [
            " 68%|██████▊   | 27/40 [05:10<02:25, 11.22s/it]"
          ]
        },
        {
          "name": "stdout",
          "output_type": "stream",
          "text": [
            "Val loss: 0.451 | Val acc: 0.846\n",
            "\n",
            "Epoch: 28\n",
            "learning rate:  0.0125\n",
            "Train loss: 0.207 | Train acc: 0.929\n"
          ]
        },
        {
          "name": "stderr",
          "output_type": "stream",
          "text": [
            " 70%|███████   | 28/40 [05:21<02:14, 11.20s/it]"
          ]
        },
        {
          "name": "stdout",
          "output_type": "stream",
          "text": [
            "Val loss: 0.479 | Val acc: 0.842\n",
            "\n",
            "Epoch: 29\n",
            "learning rate:  0.0125\n",
            "Train loss: 0.205 | Train acc: 0.928\n"
          ]
        },
        {
          "name": "stderr",
          "output_type": "stream",
          "text": [
            " 72%|███████▎  | 29/40 [05:32<02:03, 11.18s/it]"
          ]
        },
        {
          "name": "stdout",
          "output_type": "stream",
          "text": [
            "Val loss: 0.518 | Val acc: 0.838\n",
            "\n",
            "Epoch: 30\n",
            "learning rate:  0.00625\n",
            "Train loss: 0.199 | Train acc: 0.931\n"
          ]
        },
        {
          "name": "stderr",
          "output_type": "stream",
          "text": [
            " 75%|███████▌  | 30/40 [05:43<01:51, 11.17s/it]"
          ]
        },
        {
          "name": "stdout",
          "output_type": "stream",
          "text": [
            "Val loss: 0.469 | Val acc: 0.843\n",
            "\n",
            "Epoch: 31\n",
            "learning rate:  0.00625\n",
            "Train loss: 0.152 | Train acc: 0.948\n"
          ]
        },
        {
          "name": "stderr",
          "output_type": "stream",
          "text": [
            " 78%|███████▊  | 31/40 [05:54<01:40, 11.17s/it]"
          ]
        },
        {
          "name": "stdout",
          "output_type": "stream",
          "text": [
            "Val loss: 0.391 | Val acc: 0.871\n",
            "\n",
            "Epoch: 32\n",
            "learning rate:  0.00625\n",
            "Train loss: 0.131 | Train acc: 0.955\n"
          ]
        },
        {
          "name": "stderr",
          "output_type": "stream",
          "text": [
            " 80%|████████  | 32/40 [06:05<01:29, 11.17s/it]"
          ]
        },
        {
          "name": "stdout",
          "output_type": "stream",
          "text": [
            "Val loss: 0.413 | Val acc: 0.867\n",
            "\n",
            "Epoch: 33\n",
            "learning rate:  0.00625\n",
            "Train loss: 0.127 | Train acc: 0.957\n"
          ]
        },
        {
          "name": "stderr",
          "output_type": "stream",
          "text": [
            " 82%|████████▎ | 33/40 [06:16<01:18, 11.16s/it]"
          ]
        },
        {
          "name": "stdout",
          "output_type": "stream",
          "text": [
            "Val loss: 0.415 | Val acc: 0.868\n",
            "\n",
            "Epoch: 34\n",
            "learning rate:  0.00625\n",
            "Train loss: 0.125 | Train acc: 0.957\n"
          ]
        },
        {
          "name": "stderr",
          "output_type": "stream",
          "text": [
            " 85%|████████▌ | 34/40 [06:28<01:07, 11.22s/it]"
          ]
        },
        {
          "name": "stdout",
          "output_type": "stream",
          "text": [
            "Val loss: 0.409 | Val acc: 0.872\n",
            "\n",
            "Epoch: 35\n",
            "learning rate:  0.00625\n",
            "Train loss: 0.119 | Train acc: 0.960\n"
          ]
        },
        {
          "name": "stderr",
          "output_type": "stream",
          "text": [
            " 88%|████████▊ | 35/40 [06:39<00:55, 11.19s/it]"
          ]
        },
        {
          "name": "stdout",
          "output_type": "stream",
          "text": [
            "Val loss: 0.389 | Val acc: 0.870\n",
            "\n",
            "Epoch: 36\n",
            "learning rate:  0.00625\n",
            "Train loss: 0.123 | Train acc: 0.959\n"
          ]
        },
        {
          "name": "stderr",
          "output_type": "stream",
          "text": [
            " 90%|█████████ | 36/40 [06:50<00:44, 11.20s/it]"
          ]
        },
        {
          "name": "stdout",
          "output_type": "stream",
          "text": [
            "Val loss: 0.398 | Val acc: 0.871\n",
            "\n",
            "Epoch: 37\n",
            "learning rate:  0.00625\n",
            "Train loss: 0.118 | Train acc: 0.961\n"
          ]
        },
        {
          "name": "stderr",
          "output_type": "stream",
          "text": [
            " 92%|█████████▎| 37/40 [07:01<00:33, 11.22s/it]"
          ]
        },
        {
          "name": "stdout",
          "output_type": "stream",
          "text": [
            "Val loss: 0.402 | Val acc: 0.873\n",
            "\n",
            "Epoch: 38\n",
            "learning rate:  0.00625\n",
            "Train loss: 0.115 | Train acc: 0.960\n"
          ]
        },
        {
          "name": "stderr",
          "output_type": "stream",
          "text": [
            " 95%|█████████▌| 38/40 [07:13<00:22, 11.23s/it]"
          ]
        },
        {
          "name": "stdout",
          "output_type": "stream",
          "text": [
            "Val loss: 0.417 | Val acc: 0.878\n",
            "\n",
            "Epoch: 39\n",
            "learning rate:  0.00625\n",
            "Train loss: 0.117 | Train acc: 0.961\n"
          ]
        },
        {
          "name": "stderr",
          "output_type": "stream",
          "text": [
            " 98%|█████████▊| 39/40 [07:24<00:11, 11.21s/it]"
          ]
        },
        {
          "name": "stdout",
          "output_type": "stream",
          "text": [
            "Val loss: 0.408 | Val acc: 0.871\n",
            "\n",
            "Epoch: 40\n",
            "learning rate:  0.003125\n",
            "Train loss: 0.112 | Train acc: 0.962\n"
          ]
        },
        {
          "name": "stderr",
          "output_type": "stream",
          "text": [
            "100%|██████████| 40/40 [07:35<00:00, 11.39s/it]"
          ]
        },
        {
          "name": "stdout",
          "output_type": "stream",
          "text": [
            "Val loss: 0.400 | Val acc: 0.870\n"
          ]
        },
        {
          "name": "stderr",
          "output_type": "stream",
          "text": [
            "\n"
          ]
        },
        {
          "name": "stdout",
          "output_type": "stream",
          "text": [
            "Test loss: 0.297 | Test acc: 0.908\n"
          ]
        }
      ],
      "source": [
        "#是否pretrain\n",
        "net = ResNet(ResBlock).to(device)\n",
        "\n",
        "# 定義損失函數和優化方式\n",
        "criterion = nn.CrossEntropyLoss()  #loss function\n",
        "optimizer = optim.SGD(net.parameters(), lr=lr, momentum=0.9, weight_decay=5e-4) #優化方式為mini-batch momentum-SGD，採用L2正則化（權重衰減）\n",
        "schecdular = torch.optim.lr_scheduler.StepLR(optimizer,step_size=10,gamma=0.5,last_epoch=-1)\n",
        "# train\n",
        "if __name__ == \"__main__\":\n",
        "    train_loss, train_acc = [], []\n",
        "    val_loss, val_acc = [], []\n",
        "    for epoch in tqdm(range(pre_epoch, EPOCH)):\n",
        "        net.train()\n",
        "        sum1_loss, sum2_loss = 0.0, 0.0\n",
        "        correct = 0.0\n",
        "        total = 0.0\n",
        "        print('\\nEpoch: %d' % (epoch + 1))\n",
        "        for i, traindata in enumerate(trainloader, 0):\n",
        "            # prepare data\n",
        "            length = len(trainloader)\n",
        "            inputs, train_labels = traindata\n",
        "            inputs, train_labels = inputs.to(device), train_labels.to(device)\n",
        "            optimizer.zero_grad()\n",
        "\n",
        "            # forward + backward\n",
        "            train_outputs = net(inputs)\n",
        "            trainloss = criterion(train_outputs, train_labels)\n",
        "            trainloss.backward()\n",
        "            optimizer.step()\n",
        "\n",
        "            # 每訓練1個batch的loss和acc\n",
        "            sum1_loss += trainloss.item()\n",
        "            _, predicted = torch.max(train_outputs.data, 1)     # 取得分數最高的那個類 (outputs.data的index), train_outputs.data.shape is torch.Size([128, 10])\n",
        "            # print(torch.max(train_outputs.data, 1)[1])\n",
        "            total += train_labels.size(0)\n",
        "            correct += predicted.eq(train_labels.data).cpu().sum()\n",
        "\n",
        "\n",
        "        schecdular.step()\n",
        "        writer.add_scalar(\"lr\", optimizer.param_groups[0]['lr'], epoch)\n",
        "        # adjust_learning_rate(optimizer, epoch)\n",
        "        print(\"learning rate: \",  optimizer.param_groups[0]['lr'])\n",
        "\n",
        "        loss1 = sum1_loss / (i + 1) # i is equal to number of batches\n",
        "        acc1 = correct / total\n",
        "        print(\"Train loss: %.3f | Train acc: %.3f\" % (loss1, acc1))\n",
        "        train_loss.append(loss1)\n",
        "        train_acc.append(acc1.item())\n",
        "\n",
        "        # 每個epoch完用val驗證\n",
        "        with torch.no_grad():\n",
        "            correct = 0\n",
        "            total = 0\n",
        "            for j, valdata in enumerate(valloader, 0):\n",
        "                net.eval()\n",
        "                images, val_labels = valdata\n",
        "                images, val_labels = images.to(device), val_labels.to(device)\n",
        "                val_outputs = net(images)\n",
        "                valloss = criterion(val_outputs, val_labels)\n",
        "\n",
        "                sum2_loss += valloss.item()\n",
        "                _, predicted = torch.max(val_outputs.data, 1)\n",
        "                total += val_labels.size(0)\n",
        "                correct += (predicted == val_labels).sum()\n",
        "\n",
        "            loss2 = sum2_loss / (j + 1)\n",
        "            acc2 = correct / total\n",
        "            print(\"Val loss: %.3f | Val acc: %.3f\" % (loss2, acc2))\n",
        "            val_loss.append(loss2)\n",
        "            val_acc.append(acc2.item())\n",
        "\n",
        "    # 用test測試\n",
        "    with torch.no_grad():\n",
        "        correct = 0\n",
        "        total = 0\n",
        "        sum3_loss = 0.0\n",
        "        for k, testdata in enumerate(testloader, 0):\n",
        "            net.eval()\n",
        "            imgs, test_labels = testdata\n",
        "            imgs, test_labels = imgs.to(device), test_labels.to(device)\n",
        "            test_outputs = net(imgs)\n",
        "            testloss = criterion(test_outputs, test_labels)\n",
        "\n",
        "            sum3_loss += testloss.item()\n",
        "            _, predicted = torch.max(test_outputs.data, 1)\n",
        "            total += test_labels.size(0)\n",
        "            correct += (predicted == test_labels).sum()\n",
        "\n",
        "        loss3 = sum3_loss / (k + 1)\n",
        "        acc3 = correct / total\n",
        "        print(\"Test loss: %.3f | Test acc: %.3f\" % (loss3, acc3))"
      ]
    },
    {
      "cell_type": "code",
      "execution_count": 13,
      "metadata": {
        "id": "g-QShVIgmicX"
      },
      "outputs": [
        {
          "data": {
            "image/png": "[encoded data removed]",
            "text/plain": [
              "<Figure size 640x480 with 1 Axes>"
            ]
          },
          "metadata": {},
          "output_type": "display_data"
        },
        {
          "data": {
            "image/png": "[encoded data removed]",
            "text/plain": [
              "<Figure size 640x480 with 1 Axes>"
            ]
          },
          "metadata": {},
          "output_type": "display_data"
        }
      ],
      "source": [
        "import matplotlib.pyplot as plt\n",
        "# plot accuracy curve\n",
        "plt.figure(0)\n",
        "plt.plot(range(1,EPOCH+1,1), np.array(train_acc), 'r-', label= \"train accuracy\")\n",
        "plt.plot(range(1,EPOCH+1,1), np.array(val_acc), 'b-', label= \"val accuracy\")\n",
        "plt.title(\"Accuracy\")\n",
        "plt.xlabel('epoch')\n",
        "plt.ylabel('accuracy')\n",
        "#plt.ylim(0.6, 1.1)\n",
        "plt.legend()\n",
        "plt.show()\n",
        "\n",
        "# plot loss curve\n",
        "plt.figure(1)\n",
        "plt.plot(range(1,EPOCH+1,1), np.array(train_loss), 'r-', label= \"train loss\")\n",
        "plt.plot(range(1,EPOCH+1,1), np.array(val_loss), 'b-', label= \"val loss\")\n",
        "plt.title(\"Loss\")\n",
        "plt.xlabel('epoch')\n",
        "plt.ylabel('loss')\n",
        "plt.legend()\n",
        "plt.show()"
      ]
    }
  ],
  "metadata": {
    "accelerator": "GPU",
    "colab": {
      "provenance": []
    },
    "kernelspec": {
      "display_name": "Python 3",
      "name": "python3"
    },
    "language_info": {
      "codemirror_mode": {
        "name": "ipython",
        "version": 3
      },
      "file_extension": ".py",
      "mimetype": "text/x-python",
      "name": "python",
      "nbconvert_exporter": "python",
      "pygments_lexer": "ipython3",
      "version": "3.11.5"
    }
  },
  "nbformat": 4,
  "nbformat_minor": 0
}
